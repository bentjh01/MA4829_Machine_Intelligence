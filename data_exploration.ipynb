{
 "cells": [
  {
   "cell_type": "code",
   "execution_count": 1,
   "metadata": {},
   "outputs": [
    {
     "name": "stderr",
     "output_type": "stream",
     "text": [
      "C:\\Users\\HO NGUYEN KY TRUNG\\AppData\\Local\\Temp\\ipykernel_21344\\2692862123.py:3: DeprecationWarning: \n",
      "Pyarrow will become a required dependency of pandas in the next major release of pandas (pandas 3.0),\n",
      "(to allow more performant data types, such as the Arrow string type, and better interoperability with other libraries)\n",
      "but was not found to be installed on your system.\n",
      "If this would cause problems for you,\n",
      "please provide us feedback at https://github.com/pandas-dev/pandas/issues/54466\n",
      "        \n",
      "  import pandas as pd\n"
     ]
    }
   ],
   "source": [
    "import numpy as np\n",
    "import matplotlib.pyplot as plt\n",
    "import pandas as pd\n",
    "import seaborn as sns\n",
    "from sklearn.preprocessing import LabelEncoder"
   ]
  },
  {
   "cell_type": "code",
   "execution_count": 2,
   "metadata": {},
   "outputs": [
    {
     "data": {
      "text/html": [
       "<div>\n",
       "<style scoped>\n",
       "    .dataframe tbody tr th:only-of-type {\n",
       "        vertical-align: middle;\n",
       "    }\n",
       "\n",
       "    .dataframe tbody tr th {\n",
       "        vertical-align: top;\n",
       "    }\n",
       "\n",
       "    .dataframe thead th {\n",
       "        text-align: right;\n",
       "    }\n",
       "</style>\n",
       "<table border=\"1\" class=\"dataframe\">\n",
       "  <thead>\n",
       "    <tr style=\"text-align: right;\">\n",
       "      <th></th>\n",
       "      <th>Which age group do you belong to?</th>\n",
       "      <th>What is your gender?</th>\n",
       "      <th>Which category do you currently belong to?</th>\n",
       "      <th>Which of the following best describes you?</th>\n",
       "      <th>Which of these factors are important to you when deciding which car to purchase?</th>\n",
       "      <th>How likely are you to opt for customised vehicle if there were no extra charges?</th>\n",
       "      <th>Which of the following exterior components would you choose to customise (texture, layout, size, etc)?</th>\n",
       "      <th>Which of the following interior components would you choose to customise (texture, layout, size, etc)?</th>\n",
       "      <th>How much are you willing to spend on car customisation if surcharges are applicable?</th>\n",
       "      <th>Are you interested in designing your own components to personalise your car?</th>\n",
       "      <th>How much are you willing to pay for the personalised design?</th>\n",
       "      <th>Do you have any 3D design experience that would help with the design process? (e.g. AutoCAD, SolidWorks, Blender, etc)</th>\n",
       "      <th>Please give us any design ideas to make the car uniquely Singaporean.</th>\n",
       "    </tr>\n",
       "  </thead>\n",
       "  <tbody>\n",
       "    <tr>\n",
       "      <th>0</th>\n",
       "      <td>20-30</td>\n",
       "      <td>Male</td>\n",
       "      <td>Do not own a car, but planning to purchase in ...</td>\n",
       "      <td>Single</td>\n",
       "      <td>Price;Functionality;Size;Customisable options</td>\n",
       "      <td>Very likely</td>\n",
       "      <td>Grilles</td>\n",
       "      <td>Centre compartment</td>\n",
       "      <td>100-500</td>\n",
       "      <td>Only with professional help</td>\n",
       "      <td>500-1000</td>\n",
       "      <td>No, I would need a designer to model my sketch</td>\n",
       "      <td>NaN</td>\n",
       "    </tr>\n",
       "  </tbody>\n",
       "</table>\n",
       "</div>"
      ],
      "text/plain": [
       "  Which age group do you belong to? What is your gender?  \\\n",
       "0                             20-30                 Male   \n",
       "\n",
       "          Which category do you currently belong to?  \\\n",
       "0  Do not own a car, but planning to purchase in ...   \n",
       "\n",
       "  Which of the following best describes you?  \\\n",
       "0                                     Single   \n",
       "\n",
       "  Which of these factors are important to you when deciding which car to purchase?  \\\n",
       "0      Price;Functionality;Size;Customisable options                                 \n",
       "\n",
       "  How likely are you to opt for customised vehicle if there were no extra charges?   \\\n",
       "0                                        Very likely                                  \n",
       "\n",
       "  Which of the following exterior components would you choose to customise (texture, layout, size, etc)?   \\\n",
       "0                                            Grilles                                                        \n",
       "\n",
       "  Which of the following interior components would you choose to customise (texture, layout, size, etc)?   \\\n",
       "0                                 Centre compartment                                                        \n",
       "\n",
       "  How much are you willing to spend on car customisation if surcharges are applicable?  \\\n",
       "0                                            100-500                                     \n",
       "\n",
       "  Are you interested in designing your own components to personalise your car?   \\\n",
       "0                        Only with professional help                              \n",
       "\n",
       "  How much are you willing to pay for the personalised design?   \\\n",
       "0                                           500-1000              \n",
       "\n",
       "  Do you have any 3D design experience that would help with the design process? (e.g. AutoCAD, SolidWorks, Blender, etc)  \\\n",
       "0     No, I would need a designer to model my sketch                                                                       \n",
       "\n",
       "  Please give us any design ideas to make the car uniquely Singaporean.  \n",
       "0                                                NaN                     "
      ]
     },
     "execution_count": 2,
     "metadata": {},
     "output_type": "execute_result"
    }
   ],
   "source": [
    "data_path = 'survey_results.csv'\n",
    "data_raw_df= pd.read_csv(data_path)\n",
    "data_raw_df.head(1)"
   ]
  },
  {
   "cell_type": "code",
   "execution_count": 3,
   "metadata": {},
   "outputs": [
    {
     "data": {
      "text/html": [
       "<div>\n",
       "<style scoped>\n",
       "    .dataframe tbody tr th:only-of-type {\n",
       "        vertical-align: middle;\n",
       "    }\n",
       "\n",
       "    .dataframe tbody tr th {\n",
       "        vertical-align: top;\n",
       "    }\n",
       "\n",
       "    .dataframe thead th {\n",
       "        text-align: right;\n",
       "    }\n",
       "</style>\n",
       "<table border=\"1\" class=\"dataframe\">\n",
       "  <thead>\n",
       "    <tr style=\"text-align: right;\">\n",
       "      <th></th>\n",
       "      <th>Which age group do you belong to?</th>\n",
       "      <th>What is your gender?</th>\n",
       "      <th>Which category do you currently belong to?</th>\n",
       "      <th>Which of the following best describes you?</th>\n",
       "      <th>Which of these factors are important to you when deciding which car to purchase?</th>\n",
       "      <th>How likely are you to opt for customised vehicle if there were no extra charges?</th>\n",
       "      <th>Which of the following exterior components would you choose to customise (texture, layout, size, etc)?</th>\n",
       "      <th>Which of the following interior components would you choose to customise (texture, layout, size, etc)?</th>\n",
       "      <th>How much are you willing to spend on car customisation if surcharges are applicable?</th>\n",
       "      <th>Are you interested in designing your own components to personalise your car?</th>\n",
       "      <th>How much are you willing to pay for the personalised design?</th>\n",
       "      <th>Do you have any 3D design experience that would help with the design process? (e.g. AutoCAD, SolidWorks, Blender, etc)</th>\n",
       "      <th>Please give us any design ideas to make the car uniquely Singaporean.</th>\n",
       "    </tr>\n",
       "  </thead>\n",
       "  <tbody>\n",
       "    <tr>\n",
       "      <th>count</th>\n",
       "      <td>50</td>\n",
       "      <td>50</td>\n",
       "      <td>50</td>\n",
       "      <td>50</td>\n",
       "      <td>49</td>\n",
       "      <td>50</td>\n",
       "      <td>49</td>\n",
       "      <td>50</td>\n",
       "      <td>50</td>\n",
       "      <td>50</td>\n",
       "      <td>50</td>\n",
       "      <td>50</td>\n",
       "      <td>17</td>\n",
       "    </tr>\n",
       "    <tr>\n",
       "      <th>unique</th>\n",
       "      <td>4</td>\n",
       "      <td>3</td>\n",
       "      <td>3</td>\n",
       "      <td>3</td>\n",
       "      <td>37</td>\n",
       "      <td>3</td>\n",
       "      <td>23</td>\n",
       "      <td>16</td>\n",
       "      <td>5</td>\n",
       "      <td>3</td>\n",
       "      <td>4</td>\n",
       "      <td>2</td>\n",
       "      <td>17</td>\n",
       "    </tr>\n",
       "    <tr>\n",
       "      <th>top</th>\n",
       "      <td>20-30</td>\n",
       "      <td>Male</td>\n",
       "      <td>Do not own a car, but planning to purchase in ...</td>\n",
       "      <td>Single</td>\n",
       "      <td>Price;Brand name;Aesthetics;Technological feat...</td>\n",
       "      <td>Very likely</td>\n",
       "      <td>Wheels</td>\n",
       "      <td>Dashboard</td>\n",
       "      <td>500-1000</td>\n",
       "      <td>Only with professional help</td>\n",
       "      <td>500-1000</td>\n",
       "      <td>No, I would need a designer to model my sketch</td>\n",
       "      <td>wheels that look like the singapore flyer</td>\n",
       "    </tr>\n",
       "    <tr>\n",
       "      <th>freq</th>\n",
       "      <td>41</td>\n",
       "      <td>32</td>\n",
       "      <td>36</td>\n",
       "      <td>38</td>\n",
       "      <td>5</td>\n",
       "      <td>37</td>\n",
       "      <td>8</td>\n",
       "      <td>11</td>\n",
       "      <td>19</td>\n",
       "      <td>26</td>\n",
       "      <td>21</td>\n",
       "      <td>33</td>\n",
       "      <td>1</td>\n",
       "    </tr>\n",
       "  </tbody>\n",
       "</table>\n",
       "</div>"
      ],
      "text/plain": [
       "       Which age group do you belong to? What is your gender?  \\\n",
       "count                                 50                   50   \n",
       "unique                                 4                    3   \n",
       "top                                20-30                 Male   \n",
       "freq                                  41                   32   \n",
       "\n",
       "               Which category do you currently belong to?  \\\n",
       "count                                                  50   \n",
       "unique                                                  3   \n",
       "top     Do not own a car, but planning to purchase in ...   \n",
       "freq                                                   36   \n",
       "\n",
       "       Which of the following best describes you?  \\\n",
       "count                                          50   \n",
       "unique                                          3   \n",
       "top                                        Single   \n",
       "freq                                           38   \n",
       "\n",
       "       Which of these factors are important to you when deciding which car to purchase?  \\\n",
       "count                                                  49                                 \n",
       "unique                                                 37                                 \n",
       "top     Price;Brand name;Aesthetics;Technological feat...                                 \n",
       "freq                                                    5                                 \n",
       "\n",
       "       How likely are you to opt for customised vehicle if there were no extra charges?   \\\n",
       "count                                                  50                                  \n",
       "unique                                                  3                                  \n",
       "top                                           Very likely                                  \n",
       "freq                                                   37                                  \n",
       "\n",
       "       Which of the following exterior components would you choose to customise (texture, layout, size, etc)?   \\\n",
       "count                                                  49                                                        \n",
       "unique                                                 23                                                        \n",
       "top                                                Wheels                                                        \n",
       "freq                                                    8                                                        \n",
       "\n",
       "       Which of the following interior components would you choose to customise (texture, layout, size, etc)?   \\\n",
       "count                                                  50                                                        \n",
       "unique                                                 16                                                        \n",
       "top                                             Dashboard                                                        \n",
       "freq                                                   11                                                        \n",
       "\n",
       "       How much are you willing to spend on car customisation if surcharges are applicable?  \\\n",
       "count                                                  50                                     \n",
       "unique                                                  5                                     \n",
       "top                                              500-1000                                     \n",
       "freq                                                   19                                     \n",
       "\n",
       "       Are you interested in designing your own components to personalise your car?   \\\n",
       "count                                                  50                              \n",
       "unique                                                  3                              \n",
       "top                           Only with professional help                              \n",
       "freq                                                   26                              \n",
       "\n",
       "       How much are you willing to pay for the personalised design?   \\\n",
       "count                                                  50              \n",
       "unique                                                  4              \n",
       "top                                              500-1000              \n",
       "freq                                                   21              \n",
       "\n",
       "       Do you have any 3D design experience that would help with the design process? (e.g. AutoCAD, SolidWorks, Blender, etc)  \\\n",
       "count                                                  50                                                                       \n",
       "unique                                                  2                                                                       \n",
       "top        No, I would need a designer to model my sketch                                                                       \n",
       "freq                                                   33                                                                       \n",
       "\n",
       "       Please give us any design ideas to make the car uniquely Singaporean.  \n",
       "count                                                  17                     \n",
       "unique                                                 17                     \n",
       "top             wheels that look like the singapore flyer                     \n",
       "freq                                                    1                     "
      ]
     },
     "execution_count": 3,
     "metadata": {},
     "output_type": "execute_result"
    }
   ],
   "source": [
    "data_raw_df.describe()"
   ]
  },
  {
   "cell_type": "code",
   "execution_count": null,
   "metadata": {},
   "outputs": [],
   "source": [
    "for column_name in data_raw_df.columns:\n",
    "    print(column_name)\n",
    "    print(data_raw_df[column_name].unique())\n",
    "    print(\"\")"
   ]
  },
  {
   "cell_type": "code",
   "execution_count": null,
   "metadata": {},
   "outputs": [],
   "source": [
    "# Data Cleaning\n",
    "# To change the keys (column names) of multiple columns:\n",
    "data_mod_df = data_raw_df.copy()\n",
    "data_mod_df.rename(columns={'Which age group do you belong to?': 'age_group', \n",
    "                            'What is your gender?': 'gender', \n",
    "                            \"Which category do you currently belong to?\": \"car\",\n",
    "                            \"Which of the following best describes you?\": \"mariage\",\n",
    "                            \"Which of these factors are important to you when deciding which car to purchase?\": \"purchase_factors\",\n",
    "                            \"How likely are you to opt for customised vehicle if there were no extra charges? \": \"customisation\",\n",
    "                            \"Which of the following exterior components would you choose to customise (texture, layout, size, etc)? \": \"ex_components_custom\",\n",
    "                            \"Which of the following interior components would you choose to customise (texture, layout, size, etc)? \": \"in_components_custom\",\n",
    "                            \"How much are you willing to spend on car customisation if surcharges are applicable?\": \"custom_spend\",\n",
    "                            \"Are you interested in designing your own components to personalise your car? \": \"custom_interest\",\n",
    "                            \"How much are you willing to pay for the personalised design? \": \"personalised_design_spend\",\n",
    "                            \"Do you have any 3D design experience that would help with the design process? (e.g. AutoCAD, SolidWorks, Blender, etc)\": \"des_exp\",\n",
    "                            \"Please give us any design ideas to make the car uniquely Singaporean.\": \"des_ideas\"\n",
    "                            }, inplace=True)\n",
    "data_mod_df.head()\n"
   ]
  },
  {
   "cell_type": "markdown",
   "metadata": {},
   "source": [
    "#### **Car owner ship:** \n",
    "    'Do not own a car, but planning to purchase in future': 0,\n",
    "    'Own a car': 1,\n",
    "    'Own more than one car': 2\n",
    "#### **Do you have any 3D design experience that would help with the design process?**\n",
    "    'No, I would need a designer to model my sketch': 0,\n",
    "    'Yes, I can design on my own': 1\n",
    "#### **Gender:**\n",
    "    Male: M\n",
    "    Female: F\n",
    "    Prefer not to say: N/A"
   ]
  },
  {
   "cell_type": "code",
   "execution_count": null,
   "metadata": {},
   "outputs": [],
   "source": [
    "data_mod_df['car'] = data_mod_df['car'].replace({\n",
    "    'Do not own a car, but planning to purchase in future': 0,\n",
    "    'Own a car': 1,\n",
    "    'Own more than one car': 2\n",
    "})\n",
    "data_mod_df['des_exp'] = data_mod_df['des_exp'].replace({\n",
    "    'No, I would need a designer to model my sketch': 0,\n",
    "    'Yes, I can design on my own': 1\n",
    "})\n",
    "data_mod_df['gender'] = data_mod_df['gender'].replace({\n",
    "    'Male': 'M',\n",
    "    'Female': 'F',\n",
    "    'Prefer not to say': 'N/A',\n",
    "})\n",
    "data_mod_df"
   ]
  },
  {
   "cell_type": "code",
   "execution_count": null,
   "metadata": {},
   "outputs": [],
   "source": [
    "plt.figure(figsize=(5, 3))\n",
    "sns.countplot(data=data_mod_df, x='age_group', hue = 'age_group', order=data_mod_df['age_group'].value_counts().index, palette='viridis')\n",
    "plt.title('Distribution of Respondents Across Age Groups')\n",
    "plt.xlabel('Age Group')\n",
    "plt.ylabel('Count')\n",
    "plt.show()"
   ]
  },
  {
   "cell_type": "code",
   "execution_count": null,
   "metadata": {},
   "outputs": [],
   "source": [
    "plt.figure(figsize=(4, 4))\n",
    "data_mod_df['gender'].value_counts().plot(kind='pie', autopct='%1.1f%%',labels=['Male', 'Female', 'Secret'], colors=['red', 'yellow', 'grey'])\n",
    "plt.title('Gender Distribution of Respondents')\n",
    "plt.ylabel('')\n",
    "plt.show()\n"
   ]
  },
  {
   "cell_type": "code",
   "execution_count": null,
   "metadata": {},
   "outputs": [],
   "source": [
    "plt.figure(figsize=(10, 6))\n",
    "sns.countplot(data=data_mod_df, x='car', hue='car', palette='pastel')\n",
    "plt.title('Distribution of Car Ownership Status')\n",
    "plt.xlabel('Car Ownership Status')\n",
    "plt.ylabel('Count')\n",
    "tick_labels = ['No, planning to buy', 'Own a car', 'More than 1 car']\n",
    "plt.xticks(ticks=[0, 1, 2], labels=tick_labels)\n",
    "plt.show()"
   ]
  },
  {
   "cell_type": "code",
   "execution_count": null,
   "metadata": {},
   "outputs": [],
   "source": [
    "plt.figure(figsize=(10, 6))\n",
    "sns.countplot(data=data_mod_df, x='mariage', hue='mariage', palette='muted')\n",
    "plt.title('Distribution of Marital Status Among Respondents')\n",
    "plt.xlabel('Marital Status')\n",
    "plt.ylabel('Count')\n",
    "plt.show()"
   ]
  },
  {
   "cell_type": "code",
   "execution_count": null,
   "metadata": {},
   "outputs": [],
   "source": [
    "plt.figure(figsize=(6, 4))\n",
    "data_mod_df['purchase_factors'].str.split(';').explode().value_counts().sort_values().plot(kind='barh', color='cyan')\n",
    "plt.title('Distribution of Factors Influencing Car Purchase')\n",
    "plt.xlabel('Count')\n",
    "plt.ylabel('Factors')\n",
    "plt.show()"
   ]
  },
  {
   "cell_type": "code",
   "execution_count": null,
   "metadata": {},
   "outputs": [],
   "source": [
    "plt.figure(figsize=(4, 4))\n",
    "data_mod_df['customisation'].value_counts().plot(kind='pie', autopct='%1.1f%%', colors=['lightgreen', 'mediumseagreen', 'darkseagreen'])\n",
    "plt.title('Likelihood of Opting for Customized Vehicle')\n",
    "plt.ylabel('')\n",
    "plt.show()\n"
   ]
  },
  {
   "cell_type": "code",
   "execution_count": null,
   "metadata": {},
   "outputs": [],
   "source": [
    "plt.figure(figsize=(7, 4))\n",
    "data_mod_df['ex_components_custom'].str.split(';').explode().value_counts().sort_values().plot(kind='barh', color='lightgreen')\n",
    "plt.title('Distribution of Exterior Components Customization Preferences')\n",
    "plt.xlabel('Count')\n",
    "plt.ylabel('Components')\n",
    "plt.show()\n"
   ]
  },
  {
   "cell_type": "code",
   "execution_count": null,
   "metadata": {},
   "outputs": [],
   "source": [
    "plt.figure(figsize=(7, 4))\n",
    "data_mod_df['in_components_custom'].str.split(';').explode().value_counts().sort_values().plot(kind='barh', color='lightblue')\n",
    "plt.title('Distribution of Interior Components Customization Preferences')\n",
    "plt.xlabel('Count')\n",
    "plt.ylabel('Components')\n",
    "plt.show()"
   ]
  },
  {
   "cell_type": "code",
   "execution_count": null,
   "metadata": {},
   "outputs": [],
   "source": [
    "plt.figure(figsize=(5, 3))\n",
    "sns.countplot(data=data_mod_df, x='custom_spend', hue='custom_spend', palette='cividis')\n",
    "plt.title('Distribution of Budget for Car Customization')\n",
    "plt.xlabel('Budget Range')\n",
    "plt.ylabel('Count')\n",
    "plt.show()"
   ]
  },
  {
   "cell_type": "code",
   "execution_count": null,
   "metadata": {},
   "outputs": [],
   "source": [
    "plt.figure(figsize=(4, 4))\n",
    "data_mod_df['custom_interest'].value_counts().plot(kind='pie', autopct='%1.1f%%', colors=['lightblue', 'skyblue', 'darkblue'])\n",
    "plt.title('Interest in Designing Components')\n",
    "plt.ylabel('')\n",
    "plt.show()\n"
   ]
  },
  {
   "cell_type": "code",
   "execution_count": null,
   "metadata": {},
   "outputs": [],
   "source": [
    "plt.figure(figsize=(5, 3))\n",
    "sns.countplot(data=data_mod_df, x='personalised_design_spend', hue='personalised_design_spend', palette='pastel')\n",
    "plt.title('Distribution of Willingness to Pay for Personalized Design')\n",
    "plt.xlabel('Willingness to Pay Range')\n",
    "plt.ylabel('Count')\n",
    "plt.show()\n"
   ]
  },
  {
   "cell_type": "code",
   "execution_count": null,
   "metadata": {},
   "outputs": [],
   "source": [
    "plt.figure(figsize=(4, 4))\n",
    "data_mod_df['des_exp'].value_counts().plot(kind='pie', autopct='%1.1f%%',labels=['No, need a designer to help', 'I can design on my own'], colors=['orange', 'coral'])\n",
    "plt.title('3D Design Experience')\n",
    "plt.ylabel('')\n",
    "plt.show()\n"
   ]
  },
  {
   "cell_type": "code",
   "execution_count": null,
   "metadata": {},
   "outputs": [],
   "source": []
  },
  {
   "cell_type": "code",
   "execution_count": null,
   "metadata": {},
   "outputs": [],
   "source": [
    "#print('stop')"
   ]
  },
  {
   "cell_type": "code",
   "execution_count": null,
   "metadata": {},
   "outputs": [],
   "source": [
    "# Check missing values\n",
    "missing_values = data_mod_df.isnull().sum()\n",
    "print(\"Missing Values:\\n\", missing_values)\n",
    "\n",
    "# delete rows with missing values \n",
    "#data_mod_df.dropna(inplace=True)\n"
   ]
  },
  {
   "cell_type": "code",
   "execution_count": null,
   "metadata": {},
   "outputs": [],
   "source": [
    "def find_unique_values(df, column_name, delmiter):\n",
    "    unique_values = []\n",
    "    for values in df[column_name].unique():\n",
    "        if values is np.nan:\n",
    "            continue\n",
    "        _ = values.split(delmiter)\n",
    "        for value in _:\n",
    "            if value not in unique_values:\n",
    "                unique_values.append(value)\n",
    "    return unique_values"
   ]
  },
  {
   "cell_type": "code",
   "execution_count": null,
   "metadata": {},
   "outputs": [],
   "source": [
    "purchase_factors_unique = find_unique_values(data_mod_df, \"purchase_factors\", \";\")\n",
    "for factor in purchase_factors_unique:\n",
    "  data_mod_df[factor] = data_mod_df[\"purchase_factors\"].str.contains(factor)\n",
    "purchase_factors_unique\n",
    "#data_mod_df.head(1)\n"
   ]
  },
  {
   "cell_type": "code",
   "execution_count": null,
   "metadata": {},
   "outputs": [],
   "source": [
    "exterior_components_unique = find_unique_values(data_mod_df, \"ex_components_custom\", \";\")\n",
    "for components in exterior_components_unique:\n",
    "  data_mod_df[components] = data_mod_df[\"ex_components_custom\"].str.contains(components)\n",
    "#data_mod_df.head(1)\n",
    "exterior_components_unique\n"
   ]
  },
  {
   "cell_type": "code",
   "execution_count": null,
   "metadata": {},
   "outputs": [],
   "source": [
    "interior_components_unique = find_unique_values(data_mod_df, \"in_components_custom\", \";\")\n",
    "for components in interior_components_unique:\n",
    "  data_mod_df[components] = data_mod_df[\"in_components_custom\"].str.contains(components)\n",
    "#data_mod_df.head(1)\n",
    "interior_components_unique\n"
   ]
  },
  {
   "cell_type": "code",
   "execution_count": null,
   "metadata": {},
   "outputs": [],
   "source": [
    "from fuzzywuzzy import fuzz\n",
    "\n",
    "# Define a function to calculate fuzzy match score\n",
    "def fuzzy_match_score(str1, str2):\n",
    "    return fuzz.ratio(str1, str2)\n",
    "\n",
    "# Apply fuzzy match score on a column of the dataframe\n",
    "new_df = data_raw_df.copy()\n",
    "new_df['Fuzzy Score'] = data_raw_df['How likely are you to opt for customised vehicle if there were no extra charges?'].apply(lambda x: fuzzy_match_score(x, 'Target_String'))\n"
   ]
  },
  {
   "cell_type": "code",
   "execution_count": null,
   "metadata": {},
   "outputs": [],
   "source": []
  }
 ],
 "metadata": {
  "kernelspec": {
   "display_name": "Python 3",
   "language": "python",
   "name": "python3"
  },
  "language_info": {
   "codemirror_mode": {
    "name": "ipython",
    "version": 3
   },
   "file_extension": ".py",
   "mimetype": "text/x-python",
   "name": "python",
   "nbconvert_exporter": "python",
   "pygments_lexer": "ipython3",
   "version": "3.12.2"
  }
 },
 "nbformat": 4,
 "nbformat_minor": 2
}
